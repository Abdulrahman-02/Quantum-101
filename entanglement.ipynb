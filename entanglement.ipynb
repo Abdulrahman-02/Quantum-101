{
 "cells": [
  {
   "cell_type": "code",
   "execution_count": 2,
   "metadata": {},
   "outputs": [],
   "source": [
    "# Required imports\n",
    "\n",
    "from qiskit import QuantumCircuit\n",
    "from qiskit_aer.primitives import Sampler\n",
    "from numpy import pi\n",
    "from numpy.random import randint"
   ]
  },
  {
   "cell_type": "code",
   "execution_count": 3,
   "metadata": {},
   "outputs": [],
   "source": [
    "# Implement CHSH game\n",
    "def chsh_game(strategy):\n",
    "    \"\"\"Plays the CHSH game\n",
    "    Args:\n",
    "        strategy (callable): A function that takes two bits (as `int`s) and\n",
    "            returns two bits (also as `int`s). The strategy must follow the\n",
    "            rules of the CHSH game.\n",
    "    Returns:\n",
    "        int: 1 for a win, 0 for a loss.\n",
    "    \"\"\"\n",
    "    # Referee chooses x and y randomly\n",
    "    x, y = randint(0, 2), randint(0, 2)\n",
    "\n",
    "    # Use strategy to choose a and b\n",
    "    a, b = strategy(x, y)\n",
    "\n",
    "    # Referee decides if Alice and Bob win or lose\n",
    "    if (a != b) == (x & y):\n",
    "        return 1  # Win\n",
    "    return 0  # Lose"
   ]
  },
  {
   "cell_type": "code",
   "execution_count": 4,
   "metadata": {},
   "outputs": [],
   "source": [
    "# function that outputs a circuit depending on the questions for Alice and Bob\n",
    "def chsh_circuit(x, y):\n",
    "    \"\"\"Creates a `QuantumCircuit` that implements the best CHSH strategy.\n",
    "    Args:\n",
    "        x (int): Alice's bit (must be 0 or 1)\n",
    "        y (int): Bob's bit (must be 0 or 1)\n",
    "    Returns:\n",
    "        QuantumCircuit: Circuit that, when run, returns Alice and Bob's\n",
    "            answer bits.\n",
    "    \"\"\"\n",
    "    qc = QuantumCircuit(2, 2)\n",
    "    qc.h(0)\n",
    "    qc.cx(0, 1)\n",
    "    qc.barrier()\n",
    "\n",
    "    # Alice\n",
    "    if x == 0:\n",
    "        qc.ry(0, 0)\n",
    "    else:\n",
    "        qc.ry(-pi / 2, 0)\n",
    "    qc.measure(0, 0)\n",
    "\n",
    "    # Bob\n",
    "    if y == 0:\n",
    "        qc.ry(-pi / 4, 1)\n",
    "    else:\n",
    "        qc.ry(pi / 4, 1)\n",
    "    qc.measure(1, 1)\n",
    "\n",
    "    return qc"
   ]
  },
  {
   "cell_type": "code",
   "execution_count": 5,
   "metadata": {},
   "outputs": [
    {
     "name": "stdout",
     "output_type": "stream",
     "text": [
      "(x,y) = (0,0)\n"
     ]
    },
    {
     "data": {
      "text/html": [
       "<pre style=\"word-wrap: normal;white-space: pre;background: #fff0;line-height: 1.1;font-family: &quot;Courier New&quot;,Courier,monospace\">     ┌───┐      ░  ┌───────┐  ┌─┐   \n",
       "q_0: ┤ H ├──■───░──┤ Ry(0) ├──┤M├───\n",
       "     └───┘┌─┴─┐ ░ ┌┴───────┴─┐└╥┘┌─┐\n",
       "q_1: ─────┤ X ├─░─┤ Ry(-π/4) ├─╫─┤M├\n",
       "          └───┘ ░ └──────────┘ ║ └╥┘\n",
       "c: 2/══════════════════════════╩══╩═\n",
       "                               0  1 </pre>"
      ],
      "text/plain": [
       "     ┌───┐      ░  ┌───────┐  ┌─┐   \n",
       "q_0: ┤ H ├──■───░──┤ Ry(0) ├──┤M├───\n",
       "     └───┘┌─┴─┐ ░ ┌┴───────┴─┐└╥┘┌─┐\n",
       "q_1: ─────┤ X ├─░─┤ Ry(-π/4) ├─╫─┤M├\n",
       "          └───┘ ░ └──────────┘ ║ └╥┘\n",
       "c: 2/══════════════════════════╩══╩═\n",
       "                               0  1 "
      ]
     },
     "metadata": {},
     "output_type": "display_data"
    },
    {
     "name": "stdout",
     "output_type": "stream",
     "text": [
      "(x,y) = (0,1)\n"
     ]
    },
    {
     "data": {
      "text/html": [
       "<pre style=\"word-wrap: normal;white-space: pre;background: #fff0;line-height: 1.1;font-family: &quot;Courier New&quot;,Courier,monospace\">     ┌───┐      ░  ┌───────┐ ┌─┐   \n",
       "q_0: ┤ H ├──■───░──┤ Ry(0) ├─┤M├───\n",
       "     └───┘┌─┴─┐ ░ ┌┴───────┴┐└╥┘┌─┐\n",
       "q_1: ─────┤ X ├─░─┤ Ry(π/4) ├─╫─┤M├\n",
       "          └───┘ ░ └─────────┘ ║ └╥┘\n",
       "c: 2/═════════════════════════╩══╩═\n",
       "                              0  1 </pre>"
      ],
      "text/plain": [
       "     ┌───┐      ░  ┌───────┐ ┌─┐   \n",
       "q_0: ┤ H ├──■───░──┤ Ry(0) ├─┤M├───\n",
       "     └───┘┌─┴─┐ ░ ┌┴───────┴┐└╥┘┌─┐\n",
       "q_1: ─────┤ X ├─░─┤ Ry(π/4) ├─╫─┤M├\n",
       "          └───┘ ░ └─────────┘ ║ └╥┘\n",
       "c: 2/═════════════════════════╩══╩═\n",
       "                              0  1 "
      ]
     },
     "metadata": {},
     "output_type": "display_data"
    },
    {
     "name": "stdout",
     "output_type": "stream",
     "text": [
      "(x,y) = (1,0)\n"
     ]
    },
    {
     "data": {
      "text/html": [
       "<pre style=\"word-wrap: normal;white-space: pre;background: #fff0;line-height: 1.1;font-family: &quot;Courier New&quot;,Courier,monospace\">     ┌───┐      ░ ┌──────────┐┌─┐   \n",
       "q_0: ┤ H ├──■───░─┤ Ry(-π/2) ├┤M├───\n",
       "     └───┘┌─┴─┐ ░ ├──────────┤└╥┘┌─┐\n",
       "q_1: ─────┤ X ├─░─┤ Ry(-π/4) ├─╫─┤M├\n",
       "          └───┘ ░ └──────────┘ ║ └╥┘\n",
       "c: 2/══════════════════════════╩══╩═\n",
       "                               0  1 </pre>"
      ],
      "text/plain": [
       "     ┌───┐      ░ ┌──────────┐┌─┐   \n",
       "q_0: ┤ H ├──■───░─┤ Ry(-π/2) ├┤M├───\n",
       "     └───┘┌─┴─┐ ░ ├──────────┤└╥┘┌─┐\n",
       "q_1: ─────┤ X ├─░─┤ Ry(-π/4) ├─╫─┤M├\n",
       "          └───┘ ░ └──────────┘ ║ └╥┘\n",
       "c: 2/══════════════════════════╩══╩═\n",
       "                               0  1 "
      ]
     },
     "metadata": {},
     "output_type": "display_data"
    },
    {
     "name": "stdout",
     "output_type": "stream",
     "text": [
      "(x,y) = (1,1)\n"
     ]
    },
    {
     "data": {
      "text/html": [
       "<pre style=\"word-wrap: normal;white-space: pre;background: #fff0;line-height: 1.1;font-family: &quot;Courier New&quot;,Courier,monospace\">     ┌───┐      ░ ┌──────────┐┌─┐   \n",
       "q_0: ┤ H ├──■───░─┤ Ry(-π/2) ├┤M├───\n",
       "     └───┘┌─┴─┐ ░ ├─────────┬┘└╥┘┌─┐\n",
       "q_1: ─────┤ X ├─░─┤ Ry(π/4) ├──╫─┤M├\n",
       "          └───┘ ░ └─────────┘  ║ └╥┘\n",
       "c: 2/══════════════════════════╩══╩═\n",
       "                               0  1 </pre>"
      ],
      "text/plain": [
       "     ┌───┐      ░ ┌──────────┐┌─┐   \n",
       "q_0: ┤ H ├──■───░─┤ Ry(-π/2) ├┤M├───\n",
       "     └───┘┌─┴─┐ ░ ├─────────┬┘└╥┘┌─┐\n",
       "q_1: ─────┤ X ├─░─┤ Ry(π/4) ├──╫─┤M├\n",
       "          └───┘ ░ └─────────┘  ║ └╥┘\n",
       "c: 2/══════════════════════════╩══╩═\n",
       "                               0  1 "
      ]
     },
     "metadata": {},
     "output_type": "display_data"
    }
   ],
   "source": [
    "# Draw the four possible circuits\n",
    "\n",
    "print(\"(x,y) = (0,0)\")\n",
    "display(chsh_circuit(0, 0).draw())\n",
    "\n",
    "print(\"(x,y) = (0,1)\")\n",
    "display(chsh_circuit(0, 1).draw())\n",
    "\n",
    "print(\"(x,y) = (1,0)\")\n",
    "display(chsh_circuit(1, 0).draw())\n",
    "\n",
    "print(\"(x,y) = (1,1)\")\n",
    "display(chsh_circuit(1, 1).draw())"
   ]
  }
 ],
 "metadata": {
  "kernelspec": {
   "display_name": "Python 3",
   "language": "python",
   "name": "python3"
  },
  "language_info": {
   "codemirror_mode": {
    "name": "ipython",
    "version": 3
   },
   "file_extension": ".py",
   "mimetype": "text/x-python",
   "name": "python",
   "nbconvert_exporter": "python",
   "pygments_lexer": "ipython3",
   "version": "3.10.13"
  }
 },
 "nbformat": 4,
 "nbformat_minor": 2
}
