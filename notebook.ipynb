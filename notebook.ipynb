{
 "cells": [
  {
   "cell_type": "code",
   "execution_count": 3,
   "metadata": {},
   "outputs": [],
   "source": [
    "from qiskit_ibm_runtime import QiskitRuntimeService\n",
    "import os\n",
    "\n",
    "# Get the IBM Quantum account token from env variables\n",
    "token = os.getenv('IBM_QISKIT_API')\n",
    "\n",
    "# Save an IBM Quantum account and set it as your default account.\n",
    "QiskitRuntimeService.save_account(channel=\"ibm_quantum\", token=token, set_as_default=True)\n",
    "\n",
    "# Load saved credentials\n",
    "service = QiskitRuntimeService() "
   ]
  },
  {
   "cell_type": "code",
   "execution_count": 4,
   "metadata": {},
   "outputs": [
    {
     "name": "stderr",
     "output_type": "stream",
     "text": [
      "/home/codespace/.python/current/lib/python3.10/site-packages/qiskit_ibm_runtime/qiskit_runtime_service.py:879: UserWarning: Cloud simulators will be deprecated on 15 May 2024. Use the new local testing mode in qiskit-ibm-runtime version 0.22.0 or later to meet your debugging needs.\n",
      "  warnings.warn(warning_message)\n"
     ]
    },
    {
     "name": "stdout",
     "output_type": "stream",
     "text": [
      "job id: co60m7nlmtfr37rbv1s0\n",
      "PrimitiveResult([PubResult(data=DataBin<>(meas=BitArray(<shape=(), num_shots=4096, num_bits=2>)), metadata={'circuit_metadata': {}})], metadata={'version': 2})\n"
     ]
    }
   ],
   "source": [
    "from qiskit import QuantumCircuit\n",
    "from qiskit_ibm_runtime import QiskitRuntimeService, SamplerV2 as Sampler\n",
    " \n",
    "# Create empty circuit\n",
    "example_circuit = QuantumCircuit(2)\n",
    "example_circuit.measure_all()\n",
    " \n",
    "# Specify the credentials when initializing QiskitRuntimeService, if they were not previously saved.\n",
    "service = QiskitRuntimeService()\n",
    "backend = service.backend(\"ibmq_qasm_simulator\")\n",
    " \n",
    "sampler = Sampler(backend)\n",
    "job = sampler.run([(example_circuit,)])\n",
    "print(f\"job id: {job.job_id()}\")\n",
    "result = job.result()\n",
    "print(result)"
   ]
  }
 ],
 "metadata": {
  "kernelspec": {
   "display_name": "Python 3",
   "language": "python",
   "name": "python3"
  },
  "language_info": {
   "codemirror_mode": {
    "name": "ipython",
    "version": 3
   },
   "file_extension": ".py",
   "mimetype": "text/x-python",
   "name": "python",
   "nbconvert_exporter": "python",
   "pygments_lexer": "ipython3",
   "version": "3.10.13"
  }
 },
 "nbformat": 4,
 "nbformat_minor": 2
}
